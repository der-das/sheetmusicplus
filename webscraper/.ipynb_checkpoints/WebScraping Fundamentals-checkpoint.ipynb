{
 "cells": [
  {
   "cell_type": "markdown",
   "metadata": {},
   "source": [
    "# Data Gathering for the Sheet Music app\n",
    "\n",
    "While thinking about this project, I realised two things:\n",
    "\n",
    "One, data gathering is an absolute pain in the tuchas. Since I didn't have a readily available stream of sheet music just sitting in PDF form (and even if I were to go back and retrieve any copies I made for accompanists so they could prepare, etc, I was unsure of the legality of USING that as part of the data-gathering step), I turned to a musician's best friend: [IMSLP](https://imslp.org/).\n",
    "\n",
    "However, even *I* wasn't crazy enough to start just downloading PDFs one by one. Curation was going to have to be done manually, so that part was already going to take A LOT of hours. Additionally, in order to make the data gathering extensible (what if we need more samples? It's all well and good to grab like 20-30 treble clefs from the same piece, but does that actually really add value to the dataset, since they're all basically the same if they're from the same printer/program), it made sense to use a webscraper. Thus, in this notebook/project, I attempt to scrape the IMSLP for samples.\n",
    "\n"
   ]
  }
 ],
 "metadata": {
  "kernelspec": {
   "display_name": "Python 3",
   "language": "python",
   "name": "python3"
  },
  "language_info": {
   "codemirror_mode": {
    "name": "ipython",
    "version": 3
   },
   "file_extension": ".py",
   "mimetype": "text/x-python",
   "name": "python",
   "nbconvert_exporter": "python",
   "pygments_lexer": "ipython3",
   "version": "3.6.7"
  }
 },
 "nbformat": 4,
 "nbformat_minor": 2
}
